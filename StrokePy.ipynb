{
 "cells": [
  {
   "cell_type": "code",
   "execution_count": 36,
   "metadata": {},
   "outputs": [
    {
     "name": "stderr",
     "output_type": "stream",
     "text": [
      "C:\\Users\\Personal\\Anaconda3\\lib\\site-packages\\IPython\\core\\interactiveshell.py:2728: DtypeWarning: Columns (31) have mixed types. Specify dtype option on import or set low_memory=False.\n",
      "  interactivity=interactivity, compiler=compiler, result=result)\n"
     ]
    }
   ],
   "source": [
    "import pandas as pd\n",
    "import numpy as np\n",
    "data=pd.read_csv('datastroke.csv')\n",
    "\n",
    "out_data=data[['SEX','DRSISC','DRSH','DRSUNK']]\n",
    "dftype1=data.groupby('SEX')['DRSISC'].value_counts()/data.groupby('SEX')['DRSISC'].count()\n",
    "dftype2=data.groupby('SEX')['DRSH'].value_counts()/data.groupby('SEX')['DRSH'].count()\n",
    "dftype3=data.groupby('SEX')['DRSUNK'].value_counts()/data.groupby('SEX')['DRSUNK'].count()\n",
    "#print(dftype1)\n",
    "#print(dftype2)\n",
    "#print(dftype3)\n",
    "\n"
   ]
  },
  {
   "cell_type": "code",
   "execution_count": 42,
   "metadata": {},
   "outputs": [
    {
     "data": {
      "text/plain": [
       "0        NaN\n",
       "1        NaN\n",
       "2        NaN\n",
       "3        NaN\n",
       "4        NaN\n",
       "5        NaN\n",
       "6        NaN\n",
       "7        NaN\n",
       "8        NaN\n",
       "9        NaN\n",
       "10       NaN\n",
       "11       NaN\n",
       "12       NaN\n",
       "13       NaN\n",
       "14       NaN\n",
       "15       NaN\n",
       "16       NaN\n",
       "17       NaN\n",
       "18       4.0\n",
       "19       7.0\n",
       "20       NaN\n",
       "21       NaN\n",
       "22       NaN\n",
       "23       NaN\n",
       "24       NaN\n",
       "25       NaN\n",
       "26       NaN\n",
       "27       NaN\n",
       "28       NaN\n",
       "29       NaN\n",
       "        ... \n",
       "19405    NaN\n",
       "19406    NaN\n",
       "19407    NaN\n",
       "19408    NaN\n",
       "19409    4.0\n",
       "19410    NaN\n",
       "19411    3.0\n",
       "19412    NaN\n",
       "19413    NaN\n",
       "19414    NaN\n",
       "19415    8.0\n",
       "19416    1.0\n",
       "19417    NaN\n",
       "19418    NaN\n",
       "19419    NaN\n",
       "19420    NaN\n",
       "19421    NaN\n",
       "19422    1.0\n",
       "19423    NaN\n",
       "19424    NaN\n",
       "19425    NaN\n",
       "19426    NaN\n",
       "19427    NaN\n",
       "19428    NaN\n",
       "19429    NaN\n",
       "19430    NaN\n",
       "19431    NaN\n",
       "19432    NaN\n",
       "19433    7.0\n",
       "19434    NaN\n",
       "Name: FDEADC, Length: 19435, dtype: float64"
      ]
     },
     "execution_count": 42,
     "metadata": {},
     "output_type": "execute_result"
    }
   ],
   "source": [
    "df=data['FDEADC']\n",
    "df"
   ]
  },
  {
   "cell_type": "code",
   "execution_count": null,
   "metadata": {},
   "outputs": [],
   "source": []
  },
  {
   "cell_type": "code",
   "execution_count": null,
   "metadata": {},
   "outputs": [],
   "source": []
  }
 ],
 "metadata": {
  "kernelspec": {
   "display_name": "Python 3",
   "language": "python",
   "name": "python3"
  },
  "language_info": {
   "codemirror_mode": {
    "name": "ipython",
    "version": 3
   },
   "file_extension": ".py",
   "mimetype": "text/x-python",
   "name": "python",
   "nbconvert_exporter": "python",
   "pygments_lexer": "ipython3",
   "version": "3.6.4"
  }
 },
 "nbformat": 4,
 "nbformat_minor": 2
}
